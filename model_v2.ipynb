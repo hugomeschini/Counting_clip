{
 "cells": [
  {
   "cell_type": "code",
   "execution_count": 14,
   "metadata": {},
   "outputs": [],
   "source": [
    "# Tratamiento de datos\n",
    "# ================================================================================================================\n",
    "import os\n",
    "import numpy as np\n",
    "import pandas as pd\n",
    "\n",
    "# Gráficos\n",
    "# ================================================================================================================\n",
    "import matplotlib.pyplot as plt\n",
    "from matplotlib import style\n",
    "import seaborn as sns\n",
    "style.use('ggplot') or plt.style.use('ggplot')\n",
    "\n",
    "# Preprocesado y modelado\n",
    "# ================================================================================================================\n",
    "from sklearn.preprocessing import label_binarize\n",
    "from itertools import cycle\n",
    "\n",
    "# Tratamiento de imágenes\n",
    "# ================================================================================================================\n",
    "import cv2\n",
    "import tensorflow as tf\n",
    "from tensorflow import keras\n",
    "import tensorflow_hub as hub\n",
    "from keras import layers\n",
    "from keras.models import Sequential\n",
    "from keras.callbacks import EarlyStopping \n",
    "\n",
    "# Evaluación del modelo\n",
    "# ================================================================================================================\n",
    "from sklearn.metrics import confusion_matrix, precision_score, recall_score, accuracy_score, auc, roc_curve\n",
    "\n",
    "# Configuración warnings\n",
    "# ================================================================================================================\n",
    "import warnings\n",
    "warnings.filterwarnings('ignore')"
   ]
  },
  {
   "cell_type": "markdown",
   "metadata": {},
   "source": [
    "# 1. Procesamiento de datos\n",
    "\n",
    "=================================================================================================="
   ]
  },
  {
   "cell_type": "code",
   "execution_count": 2,
   "metadata": {},
   "outputs": [
    {
     "data": {
      "text/plain": [
       "'c:\\\\Users\\\\hugom\\\\OneDrive\\\\Documents\\\\The Bridge_Data_Science\\\\Alumno\\\\3-Machine_Learning\\\\Kaggle Competitions\\\\Competition 3'"
      ]
     },
     "execution_count": 2,
     "metadata": {},
     "output_type": "execute_result"
    }
   ],
   "source": [
    "os.getcwd()"
   ]
  },
  {
   "cell_type": "code",
   "execution_count": 3,
   "metadata": {},
   "outputs": [],
   "source": [
    "# Descargamos el dataset\n",
    "\n",
    "ROOT_PATH = 'C:\\\\Users\\\\hugom\\\\OneDrive\\\\Documents\\\\The Bridge_Data_Science\\\\Alumno\\\\3-Machine_Learning\\\\Kaggle Competitions\\\\Competition 3'\n",
    "\n",
    "TRAIN_PATH = ROOT_PATH + \"\\\\clips-data\\\\train\"\n",
    "TEST_PATH = ROOT_PATH + \"\\\\clips-data\\\\test\"\n",
    "SOLUTION_PATH = ROOT_PATH + \"\\\\clips-data\\\\solution\""
   ]
  },
  {
   "cell_type": "code",
   "execution_count": 4,
   "metadata": {},
   "outputs": [],
   "source": [
    "# Definimos las dimensiones de las imágenes\n",
    "img_width, img_height = 32, 32\n",
    "\n",
    "\n",
    "# Transformaciones\n",
    "def define_x(img_folder):\n",
    "    '''\n",
    "    -----------------------------------------------------------------------------------------\n",
    "    Devuelve una \"X\" con el listado de imágenes a clasificar\n",
    "\n",
    "    Input: \n",
    "    \"img_folder\": directorio común\n",
    "\n",
    "    Output:\n",
    "    \"X\" en forma de lista, con valores tipo float\n",
    "    -----------------------------------------------------------------------------------------\n",
    "    '''\n",
    "   \n",
    "    X = list()\n",
    "\n",
    "   # Iteramos en el directorio, para cada una de las carpetas clasificadoras, \n",
    "    for i in os.listdir(img_folder):\n",
    "        image_path= img_folder + '\\\\' + i # path de cada imagen\n",
    "        image= cv2.imread(image_path, cv2.COLOR_BGR2RGB) # Lee la imagen y la transforma al formato de color apropiado\n",
    "        image=cv2.resize(image, (img_width, img_height),interpolation = cv2.INTER_AREA) # Da a cada imagen la dimensión indicada\n",
    "        image=np.array(image)\n",
    "        image = image.astype('float32') # Convierte la imagen a un numpy array, tipo float\n",
    "        image /= 255 # Normalizamos la imagen a valores entre 0 y 1 (por defecto van de 0 a 255), ayudará al modelo\n",
    "        X.append(image)\n",
    "\n",
    "    \n",
    "    return X\n",
    "\n",
    "\n",
    "# Definimos las 'X'\n",
    "X_train = define_x(TRAIN_PATH)\n",
    "X_test = define_x(TEST_PATH)\n",
    "X_solution = define_x(SOLUTION_PATH)"
   ]
  },
  {
   "cell_type": "code",
   "execution_count": 5,
   "metadata": {},
   "outputs": [],
   "source": [
    "# Definimos las 'y'\n",
    "\n",
    "train_labels = pd.DataFrame(pd.read_csv(ROOT_PATH + '\\\\clips-data\\\\train.csv'))\n",
    "test_labels = pd.DataFrame(pd.read_csv(ROOT_PATH + '\\\\clips-data\\\\test.csv'))\n",
    "solution_labels = pd.DataFrame(pd.read_csv(ROOT_PATH + '\\\\clips-data\\\\sample_submission.csv'))"
   ]
  },
  {
   "cell_type": "code",
   "execution_count": 6,
   "metadata": {},
   "outputs": [],
   "source": [
    "y_train = train_labels['clip_count'].copy()\n",
    "y_test = test_labels['clip_count'].copy()\n",
    "y_solution = solution_labels['clip_count'].copy()"
   ]
  },
  {
   "cell_type": "code",
   "execution_count": 7,
   "metadata": {},
   "outputs": [],
   "source": [
    "# Save data\n",
    "\n",
    "np.savez(ROOT_PATH + '/data.npz',\n",
    "        X_train = X_train,\n",
    "        y_train = y_train,\n",
    "        X_test = X_test,\n",
    "        y_test = y_test,\n",
    "        X_solution = X_solution,\n",
    "        y_solution = y_solution)\n",
    "        "
   ]
  },
  {
   "cell_type": "code",
   "execution_count": 8,
   "metadata": {},
   "outputs": [],
   "source": [
    "# Para utilizarlo\n",
    "\n",
    "data = np.load(ROOT_PATH + '\\\\data.npz')\n",
    "X_train = data['X_train']\n",
    "X_test = data['X_test']\n",
    "X_solution = data['X_solution']\n",
    "y_train = data['y_train']\n",
    "y_test = data['y_test']\n",
    "y_solution = data['y_solution']"
   ]
  },
  {
   "cell_type": "markdown",
   "metadata": {},
   "source": [
    "# 2. Exploración de datos en TRAIN\n",
    "\n",
    "=================================================================================================="
   ]
  },
  {
   "cell_type": "code",
   "execution_count": 9,
   "metadata": {},
   "outputs": [
    {
     "data": {
      "text/plain": [
       "{0: 201,\n",
       " 1: 201,\n",
       " 2: 190,\n",
       " 3: 231,\n",
       " 4: 193,\n",
       " 5: 186,\n",
       " 6: 210,\n",
       " 7: 189,\n",
       " 8: 214,\n",
       " 9: 206,\n",
       " 10: 185,\n",
       " 11: 180,\n",
       " 12: 179,\n",
       " 13: 206,\n",
       " 14: 202,\n",
       " 15: 213,\n",
       " 16: 211,\n",
       " 17: 207,\n",
       " 18: 219,\n",
       " 19: 181,\n",
       " 20: 183,\n",
       " 21: 189,\n",
       " 22: 205,\n",
       " 23: 198,\n",
       " 24: 192,\n",
       " 25: 189,\n",
       " 26: 195,\n",
       " 27: 214,\n",
       " 28: 206,\n",
       " 29: 189,\n",
       " 30: 206,\n",
       " 31: 199,\n",
       " 32: 219,\n",
       " 33: 185,\n",
       " 34: 195,\n",
       " 35: 207,\n",
       " 36: 202,\n",
       " 37: 200,\n",
       " 38: 187,\n",
       " 39: 214,\n",
       " 40: 220,\n",
       " 41: 177,\n",
       " 42: 188,\n",
       " 43: 174,\n",
       " 44: 186,\n",
       " 45: 207,\n",
       " 46: 191,\n",
       " 47: 203,\n",
       " 48: 186,\n",
       " 49: 206,\n",
       " 50: 178,\n",
       " 51: 204,\n",
       " 52: 181,\n",
       " 53: 216,\n",
       " 54: 220,\n",
       " 55: 194,\n",
       " 56: 221,\n",
       " 57: 214,\n",
       " 58: 178,\n",
       " 59: 184,\n",
       " 60: 202,\n",
       " 61: 199,\n",
       " 62: 181,\n",
       " 63: 191,\n",
       " 64: 166,\n",
       " 65: 171,\n",
       " 66: 211,\n",
       " 67: 202,\n",
       " 68: 187,\n",
       " 69: 232,\n",
       " 70: 203,\n",
       " 71: 181,\n",
       " 72: 193,\n",
       " 73: 190,\n",
       " 74: 202,\n",
       " 75: 183}"
      ]
     },
     "execution_count": 9,
     "metadata": {},
     "output_type": "execute_result"
    }
   ],
   "source": [
    "unique, counts = np.unique(y_train, return_counts=True)\n",
    "dict(zip(unique, counts))"
   ]
  },
  {
   "cell_type": "code",
   "execution_count": 10,
   "metadata": {},
   "outputs": [
    {
     "data": {
      "text/plain": [
       "dict_keys([0, 1, 2, 3, 4, 5, 6, 7, 8, 9, 10, 11, 12, 13, 14, 15, 16, 17, 18, 19, 20, 21, 22, 23, 24, 25, 26, 27, 28, 29, 30, 31, 32, 33, 34, 35, 36, 37, 38, 39, 40, 41, 42, 43, 44, 45, 46, 47, 48, 49, 50, 51, 52, 53, 54, 55, 56, 57, 58, 59, 60, 61, 62, 63, 64, 65, 66, 67, 68, 69, 70, 71, 72, 73, 74, 75])"
      ]
     },
     "execution_count": 10,
     "metadata": {},
     "output_type": "execute_result"
    }
   ],
   "source": [
    "class_names = dict(zip(unique, counts)).keys()\n",
    "class_names"
   ]
  },
  {
   "cell_type": "code",
   "execution_count": 11,
   "metadata": {},
   "outputs": [
    {
     "name": "stdout",
     "output_type": "stream",
     "text": [
      "(15000, 32, 32, 3)\n",
      "(3000, 32, 32, 3)\n",
      "(2000, 32, 32, 3)\n"
     ]
    }
   ],
   "source": [
    "print(X_train.shape)\n",
    "print(X_test.shape)\n",
    "print(X_solution.shape)"
   ]
  },
  {
   "cell_type": "code",
   "execution_count": 12,
   "metadata": {},
   "outputs": [
    {
     "name": "stdout",
     "output_type": "stream",
     "text": [
      "máximo valor de pixel en todo X_train: 1.0\n",
      "mínimo valor de pixel en todo X_train: 0.5686275\n"
     ]
    }
   ],
   "source": [
    "# Además, cada pixel (tercera profundidad de slicing) tiene valores comprendidos entre 0 y 1\n",
    "print('máximo valor de pixel en todo X_train:', X_train.max())\n",
    "print('mínimo valor de pixel en todo X_train:', X_train.min())"
   ]
  },
  {
   "cell_type": "markdown",
   "metadata": {},
   "source": [
    "# 3. Definición del modelo\n",
    "\n",
    "=================================================================================================="
   ]
  },
  {
   "cell_type": "code",
   "execution_count": 13,
   "metadata": {},
   "outputs": [],
   "source": [
    "img_width, img_height = 32, 32\n"
   ]
  },
  {
   "cell_type": "code",
   "execution_count": 15,
   "metadata": {},
   "outputs": [],
   "source": [
    "# Regresión en CNN\n",
    "\n",
    "def create_cnn_regression(width, height, depth, filters=(16, 32, 64), regress=False):\n",
    "\t# initialize the input shape and channel dimension, assuming\n",
    "\t# TensorFlow/channels-last ordering\n",
    "\tinputShape = (height, width, depth)\n",
    "\tchanDim = -1\n",
    "\n",
    "\t# define the model input\n",
    "\tinputs = layers.Input(shape=inputShape)\n",
    "\t# loop over the number of filters\n",
    "\tfor (i, f) in enumerate(filters):\n",
    "\t\t# if this is the first CONV layer then set the input\n",
    "\t\t# appropriately\n",
    "\t\tif i == 0:\n",
    "\t\t\tx = inputs\n",
    "\t\t# CONV => RELU => BN => POOL\n",
    "\t\tx = layers.Conv2D(f, (3, 3), padding=\"same\")(x)\n",
    "\t\tx = layers.Activation(\"relu\")(x)\n",
    "\t\tx = layers.BatchNormalization(axis=chanDim)(x)\n",
    "\t\tx = layers.MaxPooling2D(pool_size=(2, 2))(x)\n",
    "\t\t\n",
    "\t# flatten the volume, then FC => RELU => BN => DROPOUT\n",
    "\tx = layers.Flatten()(x)\n",
    "\tx = layers.Dense(16)(x)\n",
    "\tx = layers.Activation(\"relu\")(x)\n",
    "\tx = layers.BatchNormalization(axis=chanDim)(x)\n",
    "\tx = layers.Dropout(0.5)(x)\n",
    "\t# apply another FC layer, this one to match the number of nodes\n",
    "\t# coming out of the MLP\n",
    "\tx = layers.Dense(4)(x)\n",
    "\tx = layers.Activation(\"relu\")(x)\n",
    "\t# check to see if the regression node should be added\n",
    "\tif regress:\n",
    "\t\tx = layers.Dense(1, activation=\"linear\")(x)\n",
    "\t# construct the CNN\n",
    "\tmodel = keras.Model(inputs, x)\n",
    "\t# return the CNN\n",
    "\treturn model"
   ]
  },
  {
   "cell_type": "code",
   "execution_count": 17,
   "metadata": {},
   "outputs": [],
   "source": [
    "# create our Convolutional Neural Network and then compile the model\n",
    "# using mean absolute percentage error as our loss, implying that we\n",
    "# seek to minimize the absolute percentage difference between our\n",
    "# price *predictions* and the *actual prices*\n",
    "model = create_cnn_regression(img_width, img_height, 3, regress=True)\n",
    "model.compile(\n",
    "    loss = \"mean_absolute_percentage_error\", \n",
    "    optimizer = keras.optimizers.Adam(lr=1e-3, decay=1e-3 / 200), \n",
    "    metrics = ['mse', 'accuracy'])"
   ]
  },
  {
   "cell_type": "code",
   "execution_count": 18,
   "metadata": {},
   "outputs": [
    {
     "name": "stdout",
     "output_type": "stream",
     "text": [
      "Model: \"model\"\n",
      "_________________________________________________________________\n",
      " Layer (type)                Output Shape              Param #   \n",
      "=================================================================\n",
      " input_1 (InputLayer)        [(None, 32, 32, 3)]       0         \n",
      "                                                                 \n",
      " conv2d (Conv2D)             (None, 32, 32, 16)        448       \n",
      "                                                                 \n",
      " activation (Activation)     (None, 32, 32, 16)        0         \n",
      "                                                                 \n",
      " batch_normalization (BatchN  (None, 32, 32, 16)       64        \n",
      " ormalization)                                                   \n",
      "                                                                 \n",
      " max_pooling2d (MaxPooling2D  (None, 16, 16, 16)       0         \n",
      " )                                                               \n",
      "                                                                 \n",
      " conv2d_1 (Conv2D)           (None, 16, 16, 32)        4640      \n",
      "                                                                 \n",
      " activation_1 (Activation)   (None, 16, 16, 32)        0         \n",
      "                                                                 \n",
      " batch_normalization_1 (Batc  (None, 16, 16, 32)       128       \n",
      " hNormalization)                                                 \n",
      "                                                                 \n",
      " max_pooling2d_1 (MaxPooling  (None, 8, 8, 32)         0         \n",
      " 2D)                                                             \n",
      "                                                                 \n",
      " conv2d_2 (Conv2D)           (None, 8, 8, 64)          18496     \n",
      "                                                                 \n",
      " activation_2 (Activation)   (None, 8, 8, 64)          0         \n",
      "                                                                 \n",
      " batch_normalization_2 (Batc  (None, 8, 8, 64)         256       \n",
      " hNormalization)                                                 \n",
      "                                                                 \n",
      " max_pooling2d_2 (MaxPooling  (None, 4, 4, 64)         0         \n",
      " 2D)                                                             \n",
      "                                                                 \n",
      " flatten (Flatten)           (None, 1024)              0         \n",
      "                                                                 \n",
      " dense (Dense)               (None, 16)                16400     \n",
      "                                                                 \n",
      " activation_3 (Activation)   (None, 16)                0         \n",
      "                                                                 \n",
      " batch_normalization_3 (Batc  (None, 16)               64        \n",
      " hNormalization)                                                 \n",
      "                                                                 \n",
      " dropout (Dropout)           (None, 16)                0         \n",
      "                                                                 \n",
      " dense_1 (Dense)             (None, 4)                 68        \n",
      "                                                                 \n",
      " activation_4 (Activation)   (None, 4)                 0         \n",
      "                                                                 \n",
      " dense_2 (Dense)             (None, 1)                 5         \n",
      "                                                                 \n",
      "=================================================================\n",
      "Total params: 40,569\n",
      "Trainable params: 40,313\n",
      "Non-trainable params: 256\n",
      "_________________________________________________________________\n"
     ]
    }
   ],
   "source": [
    "model.summary()"
   ]
  },
  {
   "cell_type": "code",
   "execution_count": 19,
   "metadata": {},
   "outputs": [],
   "source": [
    "model.compile(loss = 'mean_squared_error', optimizer='adam', metrics=['accuracy'])"
   ]
  },
  {
   "cell_type": "code",
   "execution_count": 20,
   "metadata": {},
   "outputs": [],
   "source": [
    "monitor = EarlyStopping(monitor='val_loss', min_delta=1e-3, patience=5, verbose=1, mode='auto',\n",
    "        restore_best_weights=True)"
   ]
  },
  {
   "cell_type": "code",
   "execution_count": 21,
   "metadata": {},
   "outputs": [
    {
     "name": "stdout",
     "output_type": "stream",
     "text": [
      "Epoch 1/10\n",
      "106/106 [==============================] - 9s 74ms/step - loss: 1796.9659 - accuracy: 0.0130 - val_loss: 1887.8531 - val_accuracy: 0.0173\n",
      "Epoch 2/10\n",
      "106/106 [==============================] - 8s 75ms/step - loss: 1595.6554 - accuracy: 0.0130 - val_loss: 2093.0134 - val_accuracy: 0.0173\n",
      "Epoch 3/10\n",
      "106/106 [==============================] - 9s 84ms/step - loss: 1166.0831 - accuracy: 0.0129 - val_loss: 1755.4723 - val_accuracy: 0.0173\n",
      "Epoch 4/10\n",
      "106/106 [==============================] - 9s 83ms/step - loss: 604.2105 - accuracy: 0.0134 - val_loss: 594.3456 - val_accuracy: 0.0173\n",
      "Epoch 5/10\n",
      "106/106 [==============================] - 9s 80ms/step - loss: 243.5722 - accuracy: 0.0133 - val_loss: 273.6593 - val_accuracy: 0.0167\n",
      "Epoch 6/10\n",
      "106/106 [==============================] - 8s 80ms/step - loss: 143.1696 - accuracy: 0.0130 - val_loss: 4374.8940 - val_accuracy: 0.0167\n",
      "Epoch 7/10\n",
      "106/106 [==============================] - 9s 82ms/step - loss: 134.5366 - accuracy: 0.0130 - val_loss: 657.4534 - val_accuracy: 0.0173\n",
      "Epoch 8/10\n",
      "106/106 [==============================] - 9s 83ms/step - loss: 134.7118 - accuracy: 0.0128 - val_loss: 1173.4402 - val_accuracy: 0.0167\n",
      "Epoch 9/10\n",
      "106/106 [==============================] - 9s 82ms/step - loss: 131.2699 - accuracy: 0.0131 - val_loss: 432.7616 - val_accuracy: 0.0167\n",
      "Epoch 10/10\n",
      "106/106 [==============================] - 9s 82ms/step - loss: 124.9943 - accuracy: 0.0137 - val_loss: 26.1003 - val_accuracy: 0.0167\n"
     ]
    }
   ],
   "source": [
    "history = model.fit(X_train, y_train, batch_size=128, epochs=10, validation_split=0.1)"
   ]
  },
  {
   "cell_type": "markdown",
   "metadata": {},
   "source": [
    "# Evaluate Model"
   ]
  },
  {
   "cell_type": "code",
   "execution_count": 23,
   "metadata": {},
   "outputs": [
    {
     "name": "stdout",
     "output_type": "stream",
     "text": [
      "94/94 [==============================] - 1s 9ms/step - loss: 25.5964 - accuracy: 0.0130\n"
     ]
    }
   ],
   "source": [
    "results = model.evaluate(X_test, y_test)"
   ]
  },
  {
   "cell_type": "code",
   "execution_count": 24,
   "metadata": {},
   "outputs": [
    {
     "data": {
      "image/png": "[encoded data removed]",
      "text/plain": [
       "<Figure size 640x480 with 1 Axes>"
      ]
     },
     "metadata": {},
     "output_type": "display_data"
    }
   ],
   "source": [
    "def plot (history):\n",
    "    plt.style.use('default')\n",
    "    plt.plot(history.history['loss'], label='loss')\n",
    "    plt.plot(history.history['val_loss'], label='val_loss')\n",
    "    plt.xlabel('Epoch')\n",
    "    plt.ylabel('MSE')\n",
    "    plt.legend()\n",
    "\n",
    "plot(history)"
   ]
  },
  {
   "cell_type": "markdown",
   "metadata": {},
   "source": [
    "# Subir Kaggle"
   ]
  },
  {
   "cell_type": "code",
   "execution_count": 25,
   "metadata": {},
   "outputs": [],
   "source": [
    "predictions_submit = model.predict(X_solution)\n",
    "\n",
    "predictions = pd.DataFrame(predictions_submit)\n",
    "\n",
    "submission = pd.DataFrame(solution_labels['id'].copy())\n",
    "submission['clip_count'] = predictions[0].copy()"
   ]
  },
  {
   "cell_type": "code",
   "execution_count": 26,
   "metadata": {},
   "outputs": [
    {
     "data": {
      "text/plain": [
       "(2000, 2)"
      ]
     },
     "execution_count": 26,
     "metadata": {},
     "output_type": "execute_result"
    }
   ],
   "source": [
    "submission.shape"
   ]
  },
  {
   "cell_type": "code",
   "execution_count": 28,
   "metadata": {},
   "outputs": [
    {
     "data": {
      "text/plain": [
       "(2000, 2)"
      ]
     },
     "execution_count": 28,
     "metadata": {},
     "output_type": "execute_result"
    }
   ],
   "source": [
    "solution_labels.shape"
   ]
  },
  {
   "cell_type": "markdown",
   "metadata": {},
   "source": [
    "# Chequeator"
   ]
  },
  {
   "cell_type": "code",
   "execution_count": 29,
   "metadata": {},
   "outputs": [],
   "source": [
    "import urllib.request\n",
    "from PIL import Image"
   ]
  },
  {
   "cell_type": "code",
   "execution_count": 30,
   "metadata": {},
   "outputs": [],
   "source": [
    "sample = solution_labels"
   ]
  },
  {
   "cell_type": "code",
   "execution_count": 34,
   "metadata": {},
   "outputs": [
    {
     "data": {
      "text/html": [
       "<div>\n",
       "<style scoped>\n",
       "    .dataframe tbody tr th:only-of-type {\n",
       "        vertical-align: middle;\n",
       "    }\n",
       "\n",
       "    .dataframe tbody tr th {\n",
       "        vertical-align: top;\n",
       "    }\n",
       "\n",
       "    .dataframe thead th {\n",
       "        text-align: right;\n",
       "    }\n",
       "</style>\n",
       "<table border=\"1\" class=\"dataframe\">\n",
       "  <thead>\n",
       "    <tr style=\"text-align: right;\">\n",
       "      <th></th>\n",
       "      <th>id</th>\n",
       "      <th>clip_count</th>\n",
       "    </tr>\n",
       "  </thead>\n",
       "  <tbody>\n",
       "    <tr>\n",
       "      <th>0</th>\n",
       "      <td>48001</td>\n",
       "      <td>27</td>\n",
       "    </tr>\n",
       "    <tr>\n",
       "      <th>1</th>\n",
       "      <td>48002</td>\n",
       "      <td>64</td>\n",
       "    </tr>\n",
       "    <tr>\n",
       "      <th>2</th>\n",
       "      <td>48003</td>\n",
       "      <td>29</td>\n",
       "    </tr>\n",
       "    <tr>\n",
       "      <th>3</th>\n",
       "      <td>48004</td>\n",
       "      <td>43</td>\n",
       "    </tr>\n",
       "    <tr>\n",
       "      <th>4</th>\n",
       "      <td>48005</td>\n",
       "      <td>36</td>\n",
       "    </tr>\n",
       "    <tr>\n",
       "      <th>...</th>\n",
       "      <td>...</td>\n",
       "      <td>...</td>\n",
       "    </tr>\n",
       "    <tr>\n",
       "      <th>1995</th>\n",
       "      <td>49996</td>\n",
       "      <td>53</td>\n",
       "    </tr>\n",
       "    <tr>\n",
       "      <th>1996</th>\n",
       "      <td>49997</td>\n",
       "      <td>87</td>\n",
       "    </tr>\n",
       "    <tr>\n",
       "      <th>1997</th>\n",
       "      <td>49998</td>\n",
       "      <td>55</td>\n",
       "    </tr>\n",
       "    <tr>\n",
       "      <th>1998</th>\n",
       "      <td>49999</td>\n",
       "      <td>27</td>\n",
       "    </tr>\n",
       "    <tr>\n",
       "      <th>1999</th>\n",
       "      <td>50000</td>\n",
       "      <td>79</td>\n",
       "    </tr>\n",
       "  </tbody>\n",
       "</table>\n",
       "<p>2000 rows × 2 columns</p>\n",
       "</div>"
      ],
      "text/plain": [
       "         id  clip_count\n",
       "0     48001          27\n",
       "1     48002          64\n",
       "2     48003          29\n",
       "3     48004          43\n",
       "4     48005          36\n",
       "...     ...         ...\n",
       "1995  49996          53\n",
       "1996  49997          87\n",
       "1997  49998          55\n",
       "1998  49999          27\n",
       "1999  50000          79\n",
       "\n",
       "[2000 rows x 2 columns]"
      ]
     },
     "execution_count": 34,
     "metadata": {},
     "output_type": "execute_result"
    }
   ],
   "source": [
    "solution_labels"
   ]
  },
  {
   "cell_type": "code",
   "execution_count": 35,
   "metadata": {},
   "outputs": [],
   "source": [
    "def chequeator(df_to_submit):\n",
    "    \"\"\"\n",
    "    Esta función se asegura de que tu submission tenga la forma requerida por Kaggle.\n",
    "    \n",
    "    Si es así, se guardará el dataframe en un `csv` y estará listo para subir a Kaggle.\n",
    "    \n",
    "    Si no, LEE EL MENSAJE Y HAZLE CASO.\n",
    "    \n",
    "    Si aún no:\n",
    "    - apaga tu ordenador, \n",
    "    - date una vuelta, \n",
    "    - enciendelo otra vez, \n",
    "    - abre este notebook y \n",
    "    - leelo todo de nuevo. \n",
    "    Todos nos merecemos una segunda oportunidad. También tú.\n",
    "    \"\"\"\n",
    "    if df_to_submit.shape == sample.shape:\n",
    "        if df_to_submit.columns.all() == sample.columns.all():\n",
    "            if df_to_submit.id.all() == sample.id.all():\n",
    "                print(\"You're ready to submit!\")\n",
    "                submission.to_csv(\"submission.csv\", index = False) #muy importante el index = False\n",
    "                urllib.request.urlretrieve(\"https://i.kym-cdn.com/photos/images/facebook/000/747/556/27a.jpg\", \"gfg.png\")     \n",
    "                img = Image.open(\"gfg.png\")\n",
    "                img.show()   \n",
    "            else:\n",
    "                print(\"Check the ids and try again\")\n",
    "        else:\n",
    "            print(\"Check the names of the columns and try again\")\n",
    "    else:\n",
    "        print(\"Check the number of rows and/or columns and try again\")\n",
    "        print(\"\\nMensaje secreto de Clara: No me puedo creer que después de todo este notebook hayas hecho algún cambio en las filas de `diamonds_test.csv`. Lloro.\")"
   ]
  },
  {
   "cell_type": "code",
   "execution_count": 36,
   "metadata": {},
   "outputs": [
    {
     "name": "stdout",
     "output_type": "stream",
     "text": [
      "You're ready to submit!\n"
     ]
    }
   ],
   "source": [
    "chequeator(submission)"
   ]
  },
  {
   "cell_type": "code",
   "execution_count": 37,
   "metadata": {},
   "outputs": [],
   "source": [
    "solution_hm = submission.to_csv('solution_hm.csv', index=False)"
   ]
  }
 ],
 "metadata": {
  "interpreter": {
   "hash": "c476fdca1fa146c1aa9930d737fa2969289d4717133eb1043d72ac40501f9294"
  },
  "kernelspec": {
   "display_name": "Python 3.7.4 64-bit",
   "language": "python",
   "name": "python3"
  },
  "language_info": {
   "codemirror_mode": {
    "name": "ipython",
    "version": 3
   },
   "file_extension": ".py",
   "mimetype": "text/x-python",
   "name": "python",
   "nbconvert_exporter": "python",
   "pygments_lexer": "ipython3",
   "version": "3.7.4"
  },
  "orig_nbformat": 4
 },
 "nbformat": 4,
 "nbformat_minor": 2
}
